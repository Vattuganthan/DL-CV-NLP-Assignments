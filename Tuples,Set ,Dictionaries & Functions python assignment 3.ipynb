{
 "cells": [
  {
   "cell_type": "code",
   "execution_count": 6,
   "metadata": {},
   "outputs": [
    {
     "name": "stdout",
     "output_type": "stream",
     "text": [
      "120\n"
     ]
    }
   ],
   "source": [
    "# 1.1 Write a Python Program to implement your own myreduce() function which works exactly \n",
    "# like Python's built-in function reduce()\n",
    "\n",
    "def my_reduce(function, numberList):\n",
    "    result = numberList[0]\n",
    "    \n",
    "    for element in numberList[1:]:\n",
    "        result = function(result, element)\n",
    "    return result\n",
    "\n",
    "def product_of(a, b):\n",
    "    return a * b\n",
    "\n",
    "numberList = [1, 2, 3, 4, 5]\n",
    "print(my_reduce(product_of, numberList))"
   ]
  },
  {
   "cell_type": "code",
   "execution_count": 8,
   "metadata": {},
   "outputs": [
    {
     "name": "stdout",
     "output_type": "stream",
     "text": [
      "[2, 4, 6, 8]\n"
     ]
    }
   ],
   "source": [
    "# 1.2 Write a Python program to implement your own myfilter() function which works exactly \n",
    "# like Python's built-in function filter()\n",
    "\n",
    "def my_filter(function, numberList):\n",
    "    resultItem = []\n",
    "    for item in numberList:\n",
    "        if (function(item) == True):\n",
    "            resultItem.append(item)\n",
    "    return resultItem\n",
    "\n",
    "def is_even(number):\n",
    "    return (number % 2 == 0)\n",
    "\n",
    "numberList = [1, 2, 3, 4, 5, 6, 7, 8, 9]\n",
    "\n",
    "print(list(my_filter(is_even, numberList)))"
   ]
  },
  {
   "cell_type": "code",
   "execution_count": 11,
   "metadata": {},
   "outputs": [
    {
     "data": {
      "text/plain": [
       "{'x', 'xx', 'xxx', 'xxxx', 'y', 'yy', 'yyy', 'yyyy', 'z', 'zz', 'zzz', 'zzzz'}"
      ]
     },
     "execution_count": 11,
     "metadata": {},
     "output_type": "execute_result"
    }
   ],
   "source": [
    "#2. Implement List comprehensions to produce the following lists.\n",
    "# Write List comprehensions to produce the following Lists\n",
    "\n",
    "# ['x', 'xx', 'xxx', 'xxxx', 'y', 'yy', 'yyy', 'yyyy', 'z', 'zz', 'zzz', 'zzzz']\n",
    "def generate_pattern1(list):\n",
    "    result = set()\n",
    "    for element in list:\n",
    "        for number in range(1,5):\n",
    "            result.add(element * number)\n",
    "    return result\n",
    "\n",
    "generate_pattern1(['x', 'y', 'z'])"
   ]
  },
  {
   "cell_type": "code",
   "execution_count": 12,
   "metadata": {},
   "outputs": [
    {
     "data": {
      "text/plain": [
       "['x', 'y', 'z', 'xx', 'yy', 'zz', 'xxx', 'yyy', 'zzz', 'xxxx', 'yyyy', 'zzzz']"
      ]
     },
     "execution_count": 12,
     "metadata": {},
     "output_type": "execute_result"
    }
   ],
   "source": [
    "# ['x', 'y', 'z', 'xx', 'yy', 'zz', 'xxx', 'yyy', 'zzz', 'xxxx', 'yyyy', 'zzzz']\n",
    "def generate_pattern2(list):\n",
    "    result = []\n",
    "    for number in range(1,5):\n",
    "        for element in list:        \n",
    "            result.append(str(element) * number)\n",
    "    return result\n",
    "\n",
    "generate_pattern2(['x', 'y', 'z'])"
   ]
  },
  {
   "cell_type": "code",
   "execution_count": 13,
   "metadata": {},
   "outputs": [
    {
     "data": {
      "text/plain": [
       "[[2], [3], [4], [3], [4], [5], [4], [5], [6]]"
      ]
     },
     "execution_count": 13,
     "metadata": {},
     "output_type": "execute_result"
    }
   ],
   "source": [
    "# [[2], [3], [4], [3], [4], [5], [4], [5], [6]] \n",
    "def generate_pattern3(number):\n",
    "    result = []\n",
    "    for element in range(1, (number-3)+1):\n",
    "        for itemCount in range(1, 4):\n",
    "            result.append([element + itemCount])\n",
    "    return result\n",
    "\n",
    "generate_pattern3(6)"
   ]
  },
  {
   "cell_type": "code",
   "execution_count": 15,
   "metadata": {},
   "outputs": [
    {
     "data": {
      "text/plain": [
       "[[2, 3, 4, 5], [3, 4, 5, 6], [4, 5, 6, 7], [5, 6, 7, 8]]"
      ]
     },
     "execution_count": 15,
     "metadata": {},
     "output_type": "execute_result"
    }
   ],
   "source": [
    "# [[2, 3, 4, 5], [3, 4, 5, 6], [4, 5, 6, 7], [5, 6, 7, 8]]\n",
    "def generate_pattern4(number):\n",
    "    result = []\n",
    "    for element in range(1, (number-4)+1):\n",
    "        sunList = []\n",
    "        for itemCount in range(1, 5):\n",
    "            sunList.append(element + itemCount)\n",
    "        result.append(sunList)\n",
    "    return result\n",
    "\n",
    "generate_pattern4(8)"
   ]
  },
  {
   "cell_type": "code",
   "execution_count": 14,
   "metadata": {},
   "outputs": [
    {
     "data": {
      "text/plain": [
       "[(1, 1), (2, 1), (3, 1), (1, 2), (2, 2), (3, 2), (1, 3), (2, 3), (3, 3)]"
      ]
     },
     "execution_count": 14,
     "metadata": {},
     "output_type": "execute_result"
    }
   ],
   "source": [
    "# [(1, 1), (2, 1), (3, 1), (1, 2), (2, 2), (3, 2), (1, 3), (2, 3), (3, 3)]\n",
    "\n",
    "def generate_pattern5(upperLimit):\n",
    "    result = []\n",
    "    for first_element in range(1, upperLimit+1):\n",
    "        for second_element in range(1, upperLimit+1):\n",
    "            result.append((second_element, first_element))\n",
    "    return result\n",
    "\n",
    "generate_pattern5(3)"
   ]
  },
  {
   "cell_type": "code",
   "execution_count": null,
   "metadata": {},
   "outputs": [],
   "source": []
  }
 ],
 "metadata": {
  "kernelspec": {
   "display_name": "Python 3",
   "language": "python",
   "name": "python3"
  },
  "language_info": {
   "codemirror_mode": {
    "name": "ipython",
    "version": 3
   },
   "file_extension": ".py",
   "mimetype": "text/x-python",
   "name": "python",
   "nbconvert_exporter": "python",
   "pygments_lexer": "ipython3",
   "version": "3.7.6"
  }
 },
 "nbformat": 4,
 "nbformat_minor": 4
}
